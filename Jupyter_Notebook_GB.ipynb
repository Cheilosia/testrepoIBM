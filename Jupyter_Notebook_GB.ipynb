{
  "metadata": {
    "kernelspec": {
      "name": "python",
      "display_name": "Pyolite",
      "language": "python"
    },
    "language_info": {
      "codemirror_mode": {
        "name": "python",
        "version": 3
      },
      "file_extension": ".py",
      "mimetype": "text/x-python",
      "name": "python",
      "nbconvert_exporter": "python",
      "pygments_lexer": "ipython3",
      "version": "3.8"
    }
  },
  "nbformat_minor": 4,
  "nbformat": 4,
  "cells": [
    {
      "cell_type": "markdown",
      "source": "<center>\n    <img src=\"https://s3-api.us-geo.objectstorage.softlayer.net/cf-courses-data/CognitiveClass/Logos/organization_logo/organization_logo.png\" width=\"300\" alt=\"cognitiveclass.ai logo\"  />\n</center>\n",
      "metadata": {}
    },
    {
      "cell_type": "markdown",
      "source": "#### Add your code below following the instructions given in the course\n",
      "metadata": {}
    },
    {
      "cell_type": "markdown",
      "source": "# My Jupyter Notebook on IBM Watson Studio",
      "metadata": {}
    },
    {
      "cell_type": "markdown",
      "source": "**Gerald Bothe** \n\nScientist",
      "metadata": {}
    },
    {
      "cell_type": "markdown",
      "source": "I am interested in data science because today, data science is a prerequisite for most of modern life sciences.",
      "metadata": {}
    },
    {
      "cell_type": "markdown",
      "source": "### Greeting and Calculation",
      "metadata": {}
    },
    {
      "cell_type": "code",
      "source": "# \"Hello World\" is getting old, trying something new.\nprint('Ave Minerva, Nerdus te salutat!')\none = 1\ntwo = 2\n# 1 was assigned to variable one and 2 to two\n# then the sum, one + two, is printed\nprint(one + two)",
      "metadata": {
        "trusted": true
      },
      "execution_count": 7,
      "outputs": [
        {
          "name": "stdout",
          "text": "Ave Minerva, Nerdus te salutat!\n3\n",
          "output_type": "stream"
        }
      ]
    },
    {
      "cell_type": "markdown",
      "source": "***\n~~Nonsense!~~\n\n|Goddess|Role|\n|---|---|\n|Minerva|wisdom, defensive struggle|\n|Juno|protector of the state|\n|Venus|love|\n|Diana|hunting|\n|Vesta|hearth, home, family|\n|Ceres|agriculture, fertility|\n|Fortuna|luck|\n\nYou can search <a href=\"https://www.ssa.gov/OACT/babynames/limits.html\">here</a> whether any of these names has been used as a baby name.\n",
      "metadata": {}
    }
  ]
}